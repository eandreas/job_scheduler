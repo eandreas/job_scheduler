{
 "cells": [
  {
   "cell_type": "markdown",
   "id": "3f6420dc",
   "metadata": {},
   "source": [
    "# A Job Scheduler for Snappy Ubuntu"
   ]
  },
  {
   "cell_type": "markdown",
   "id": "90c63673",
   "metadata": {},
   "source": [
    "## Job Sceduler"
   ]
  },
  {
   "cell_type": "code",
   "execution_count": null,
   "id": "7c7f05b2",
   "metadata": {},
   "outputs": [],
   "source": [
    "import subprocess\n",
    "import time\n",
    "import datetime\n",
    "from pathlib2 import Path"
   ]
  },
  {
   "cell_type": "code",
   "execution_count": null,
   "id": "07e8f861",
   "metadata": {},
   "outputs": [],
   "source": [
    "def read_config(fn = 'config.dat'):\n",
    "    '''\n",
    "    Reads the config file, removes comments marked by '#' and replaces multiple whitespaces by single ones.\n",
    "    '''\n",
    "    lines = []\n",
    "    with open(fn) as f:\n",
    "        for line in f:\n",
    "            # substring the line to stop before the first occurrence of '#'\n",
    "            line = line[:line.find('#')]\n",
    "            # remove whitespaces from the beginning and the end of the line\n",
    "            line = line.strip()\n",
    "            # remove all double / multiple spaces by single spaces\n",
    "            len_old = 0\n",
    "            while (len(line) != len_old):\n",
    "                len_old = len(line)\n",
    "                line = line.replace('  ', ' ')\n",
    "            # append if remaining line is one or more characters\n",
    "            if (len(line) > 0):\n",
    "                lines.append(line)\n",
    "        return lines"
   ]
  },
  {
   "cell_type": "code",
   "execution_count": null,
   "id": "32160b79",
   "metadata": {},
   "outputs": [],
   "source": [
    "def get_current_datetime():\n",
    "    return subprocess.check_output('date +\"%Y %m %e %H %M\"', shell=True).decode().replace('\\n','').split(' ')"
   ]
  },
  {
   "cell_type": "code",
   "execution_count": null,
   "id": "e9c31141",
   "metadata": {},
   "outputs": [],
   "source": [
    "def get_datetime_from_line(line):\n",
    "    line = line.split(' ')\n",
    "    return [s for s in line[:5]]"
   ]
  },
  {
   "cell_type": "code",
   "execution_count": null,
   "id": "0583dfa8",
   "metadata": {},
   "outputs": [],
   "source": [
    "def get_command_from_line(line):\n",
    "    line = line.split(' ')\n",
    "    return ' '.join([str(s) for s in line[5:]])"
   ]
  },
  {
   "cell_type": "code",
   "execution_count": null,
   "id": "e9880310",
   "metadata": {},
   "outputs": [],
   "source": [
    "def is_equal(dt, dt_):\n",
    "    return (dt[0] == dt_[0]) and (dt[1] == dt_[1]) and (dt[2] == dt_[2]) and (dt[3] == dt_[3]) and (dt[4] == dt_[4])"
   ]
  },
  {
   "cell_type": "code",
   "execution_count": null,
   "id": "242ff0ed",
   "metadata": {},
   "outputs": [],
   "source": [
    "def check_run_condition(dtc, dt, dt_old):\n",
    "    # do not run twice at the same date and time\n",
    "    if (is_equal(dt, dt_old)):\n",
    "        return False\n",
    "    # replace all '*' with the corresponding value of the current datetime\n",
    "    for i in range(0, 5):\n",
    "        if (dtc[i] == '*'):\n",
    "            dtc[i] = dt[i]\n",
    "    if (is_equal(dtc, dt)):\n",
    "        return True\n",
    "    return False"
   ]
  },
  {
   "cell_type": "code",
   "execution_count": null,
   "id": "e1a96964",
   "metadata": {},
   "outputs": [],
   "source": [
    "lines = read_config()"
   ]
  },
  {
   "cell_type": "code",
   "execution_count": null,
   "id": "9a21298d",
   "metadata": {},
   "outputs": [
    {
     "data": {
      "text/plain": [
       "['* * * * * /home/eandreas/job_scheduler/test.sh',\n",
       " '2022 * * 23 52 java -jar mailalerts_2.0.4.jar']"
      ]
     },
     "execution_count": null,
     "metadata": {},
     "output_type": "execute_result"
    }
   ],
   "source": [
    "lines"
   ]
  },
  {
   "cell_type": "code",
   "execution_count": null,
   "id": "194483aa",
   "metadata": {},
   "outputs": [],
   "source": [
    "dtc = get_datetime_from_line(lines[0])"
   ]
  },
  {
   "cell_type": "code",
   "execution_count": null,
   "id": "17505903",
   "metadata": {},
   "outputs": [
    {
     "data": {
      "text/plain": [
       "(['2022', '12', '17', '22', '59'], ['2022', '12', '17', '23', '00'])"
      ]
     },
     "execution_count": null,
     "metadata": {},
     "output_type": "execute_result"
    }
   ],
   "source": [
    "\n",
    "dt = get_current_datetime()\n",
    "time.sleep(60)\n",
    "dt_ = get_current_datetime()\n",
    "dt, dt_"
   ]
  },
  {
   "cell_type": "code",
   "execution_count": null,
   "id": "b22332c6",
   "metadata": {},
   "outputs": [
    {
     "data": {
      "text/plain": [
       "True"
      ]
     },
     "execution_count": null,
     "metadata": {},
     "output_type": "execute_result"
    }
   ],
   "source": [
    "check_run_condition(dtc, dt, dt_)"
   ]
  },
  {
   "cell_type": "code",
   "execution_count": null,
   "id": "56210bbb",
   "metadata": {},
   "outputs": [
    {
     "data": {
      "text/plain": [
       "False"
      ]
     },
     "execution_count": null,
     "metadata": {},
     "output_type": "execute_result"
    }
   ],
   "source": [
    "check_run_condition(dtc, dt, dt)"
   ]
  },
  {
   "cell_type": "code",
   "execution_count": null,
   "id": "6e0eb3db",
   "metadata": {},
   "outputs": [],
   "source": [
    "dt_ = get_current_datetime()\n",
    "\n",
    "while True:\n",
    "    print(\"Sleeping for 60 seconds ...\")\n",
    "    time.sleep(5)\n",
    "    dt = get_current_datetime()\n",
    "    print(f'Current datetime: {dt}')\n",
    "    lines = read_config()\n",
    "    for line in lines:\n",
    "        dtc = get_datetime_from_line(line)\n",
    "        if check_run_condition(dtc, dt, dt_):\n",
    "            command = get_command_from_line(line)\n",
    "            # subprocess.check_output(command, shell=True)\n",
    "            print(f'Running command: {command}')\n",
    "    dt_ = dt\n"
   ]
  },
  {
   "cell_type": "markdown",
   "id": "2bcd68d5",
   "metadata": {},
   "source": [
    "## Backup Rotation"
   ]
  },
  {
   "cell_type": "markdown",
   "id": "b12c24d4",
   "metadata": {},
   "source": [
    "### Idea\n",
    "\n",
    "Keep backups as follows:\n",
    "* last nd days, nd = 1 meaning keep today and yesterday\n",
    "* nw = [now, [weekday1, weekday2, ...]] with now the number of weeks to keep and weekday1, ... the weekdays to keep withon the last now weeks\n",
    "* nm = [nom, [day1, day2, ...]] with nom the number of monts to keep and day1, ... the days to keep within the last nm weeks\n",
    "* ny = [noy, [month1, month2, ...]] with noy the numeber of years to keepa and month1, ... the month to keep within the last noy years"
   ]
  },
  {
   "cell_type": "markdown",
   "id": "6b2fcb3b",
   "metadata": {},
   "source": [
    "### Create empty files within directory sim_data to test the deletion"
   ]
  },
  {
   "cell_type": "code",
   "execution_count": null,
   "id": "501925f1",
   "metadata": {},
   "outputs": [],
   "source": [
    "sim_data = Path('simdata')\n",
    "Path.mkdir(sim_data, exist_ok=True)\n",
    "\n",
    "years = [2022]\n",
    "months28 = [2]\n",
    "months30 = [4, 6, 9, 11]\n",
    "months31 = [1, 3, 5, 7, 8, 10, 12]\n",
    "\n",
    "for y in years:\n",
    "    for m in months28:\n",
    "        for d in range(1, 29):\n",
    "            f = Path(f'{sim_data}/nextcloud_backup_{y}{m:02d}{d:02d}-020000')\n",
    "            f.touch()\n",
    "    for m in months30:\n",
    "        for d in range(1, 31):\n",
    "            f = Path(f'{sim_data}/nextcloud_backup_{y}{m:02d}{d:02d}-020000')\n",
    "            f.touch()\n",
    "    for m in months31:\n",
    "        for d in range(1, 32):\n",
    "            f = Path(f'{sim_data}/nextcloud_backup_{y}{m:02d}{d:02d}-020000')\n",
    "            f.touch()"
   ]
  },
  {
   "cell_type": "code",
   "execution_count": null,
   "id": "6e2d327a",
   "metadata": {},
   "outputs": [],
   "source": []
  },
  {
   "cell_type": "code",
   "execution_count": null,
   "id": "dd34c529",
   "metadata": {},
   "outputs": [],
   "source": []
  },
  {
   "cell_type": "code",
   "execution_count": null,
   "id": "6bc4a1d4",
   "metadata": {},
   "outputs": [],
   "source": [
    "dt = subprocess.check_output('date +%Y%m%d-%H%M%S', shell=True).decode().replace('\\n', '').split('-')"
   ]
  },
  {
   "cell_type": "code",
   "execution_count": null,
   "id": "50239cda",
   "metadata": {},
   "outputs": [
    {
     "data": {
      "text/plain": [
       "['20221217', '230038']"
      ]
     },
     "execution_count": null,
     "metadata": {},
     "output_type": "execute_result"
    }
   ],
   "source": [
    "dt"
   ]
  },
  {
   "cell_type": "code",
   "execution_count": null,
   "id": "e2398b2b",
   "metadata": {},
   "outputs": [
    {
     "name": "stdout",
     "output_type": "stream",
     "text": [
      "simdata/nextcloud_backup_20220417-020000\n",
      "simdata/nextcloud_backup_20221120-020000\n",
      "simdata/nextcloud_backup_20220517-020000\n",
      "simdata/nextcloud_backup_20221020-020000\n",
      "simdata/nextcloud_backup_20220325-020000\n",
      "simdata/nextcloud_backup_20220225-020000\n",
      "simdata/nextcloud_backup_20220409-020000\n",
      "simdata/nextcloud_backup_20220509-020000\n",
      "simdata/nextcloud_backup_20220329-020000\n",
      "simdata/nextcloud_backup_20220505-020000\n",
      "simdata/nextcloud_backup_20220405-020000\n",
      "simdata/nextcloud_backup_20221004-020000\n",
      "simdata/nextcloud_backup_20221104-020000\n",
      "simdata/nextcloud_backup_20220201-020000\n",
      "simdata/nextcloud_backup_20220301-020000\n",
      "simdata/nextcloud_backup_20221116-020000\n",
      "simdata/nextcloud_backup_20220421-020000\n",
      "simdata/nextcloud_backup_20221016-020000\n",
      "simdata/nextcloud_backup_20220521-020000\n",
      "simdata/nextcloud_backup_20220313-020000\n",
      "simdata/nextcloud_backup_20220213-020000\n",
      "simdata/nextcloud_backup_20221108-020000\n",
      "simdata/nextcloud_backup_20221008-020000\n",
      "simdata/nextcloud_backup_20220622-020000\n",
      "simdata/nextcloud_backup_20220722-020000\n",
      "simdata/nextcloud_backup_20221215-020000\n",
      "simdata/nextcloud_backup_20220110-020000\n",
      "simdata/nextcloud_backup_20220829-020000\n",
      "simdata/nextcloud_backup_20220929-020000\n",
      "simdata/nextcloud_backup_20220925-020000\n",
      "simdata/nextcloud_backup_20220825-020000\n",
      "simdata/nextcloud_backup_20220730-020000\n",
      "simdata/nextcloud_backup_20221207-020000\n",
      "simdata/nextcloud_backup_20220630-020000\n",
      "simdata/nextcloud_backup_20220102-020000\n",
      "simdata/nextcloud_backup_20221219-020000\n",
      "simdata/nextcloud_backup_20221231-020000\n",
      "simdata/nextcloud_backup_20220706-020000\n",
      "simdata/nextcloud_backup_20220606-020000\n",
      "simdata/nextcloud_backup_20220913-020000\n",
      "simdata/nextcloud_backup_20220813-020000\n",
      "simdata/nextcloud_backup_20220718-020000\n",
      "simdata/nextcloud_backup_20220618-020000\n",
      "simdata/nextcloud_backup_20220614-020000\n",
      "simdata/nextcloud_backup_20221223-020000\n",
      "simdata/nextcloud_backup_20220714-020000\n",
      "simdata/nextcloud_backup_20220801-020000\n",
      "simdata/nextcloud_backup_20220901-020000\n",
      "simdata/nextcloud_backup_20220126-020000\n",
      "simdata/nextcloud_backup_20221205-020000\n",
      "simdata/nextcloud_backup_20220927-020000\n",
      "simdata/nextcloud_backup_20220827-020000\n",
      "simdata/nextcloud_backup_20220112-020000\n",
      "simdata/nextcloud_backup_20221209-020000\n",
      "simdata/nextcloud_backup_20220620-020000\n",
      "simdata/nextcloud_backup_20221217-020000\n",
      "simdata/nextcloud_backup_20220720-020000\n",
      "simdata/nextcloud_backup_20220124-020000\n",
      "simdata/nextcloud_backup_20220608-020000\n",
      "simdata/nextcloud_backup_20220708-020000\n",
      "simdata/nextcloud_backup_20220803-020000\n",
      "simdata/nextcloud_backup_20220903-020000\n",
      "simdata/nextcloud_backup_20220616-020000\n",
      "simdata/nextcloud_backup_20220716-020000\n",
      "simdata/nextcloud_backup_20221221-020000\n",
      "simdata/nextcloud_backup_20220128-020000\n",
      "simdata/nextcloud_backup_20220911-020000\n",
      "simdata/nextcloud_backup_20220811-020000\n",
      "simdata/nextcloud_backup_20220704-020000\n",
      "simdata/nextcloud_backup_20220604-020000\n",
      "simdata/nextcloud_backup_20220519-020000\n",
      "simdata/nextcloud_backup_20220419-020000\n",
      "simdata/nextcloud_backup_20221030-020000\n",
      "simdata/nextcloud_backup_20220507-020000\n",
      "simdata/nextcloud_backup_20221130-020000\n",
      "simdata/nextcloud_backup_20220407-020000\n",
      "simdata/nextcloud_backup_20220327-020000\n",
      "simdata/nextcloud_backup_20220227-020000\n",
      "simdata/nextcloud_backup_20221122-020000\n",
      "simdata/nextcloud_backup_20220415-020000\n",
      "simdata/nextcloud_backup_20221022-020000\n",
      "simdata/nextcloud_backup_20220515-020000\n",
      "simdata/nextcloud_backup_20220311-020000\n",
      "simdata/nextcloud_backup_20220211-020000\n",
      "simdata/nextcloud_backup_20220423-020000\n",
      "simdata/nextcloud_backup_20221114-020000\n",
      "simdata/nextcloud_backup_20220523-020000\n",
      "simdata/nextcloud_backup_20221014-020000\n",
      "simdata/nextcloud_backup_20220203-020000\n",
      "simdata/nextcloud_backup_20220303-020000\n",
      "simdata/nextcloud_backup_20221018-020000\n",
      "simdata/nextcloud_backup_20221118-020000\n",
      "simdata/nextcloud_backup_20220531-020000\n",
      "simdata/nextcloud_backup_20221006-020000\n",
      "simdata/nextcloud_backup_20221106-020000\n",
      "simdata/nextcloud_backup_20221229-020000\n",
      "simdata/nextcloud_backup_20220915-020000\n",
      "simdata/nextcloud_backup_20220815-020000\n",
      "simdata/nextcloud_backup_20220819-020000\n",
      "simdata/nextcloud_backup_20220919-020000\n",
      "simdata/nextcloud_backup_20220120-020000\n",
      "simdata/nextcloud_backup_20220807-020000\n",
      "simdata/nextcloud_backup_20220907-020000\n",
      "simdata/nextcloud_backup_20220612-020000\n",
      "simdata/nextcloud_backup_20220712-020000\n",
      "simdata/nextcloud_backup_20221225-020000\n",
      "simdata/nextcloud_backup_20220116-020000\n",
      "simdata/nextcloud_backup_20220624-020000\n",
      "simdata/nextcloud_backup_20221213-020000\n",
      "simdata/nextcloud_backup_20220724-020000\n",
      "simdata/nextcloud_backup_20220831-020000\n",
      "simdata/nextcloud_backup_20220108-020000\n",
      "simdata/nextcloud_backup_20220728-020000\n",
      "simdata/nextcloud_backup_20220628-020000\n",
      "simdata/nextcloud_backup_20220104-020000\n",
      "simdata/nextcloud_backup_20221201-020000\n",
      "simdata/nextcloud_backup_20220923-020000\n",
      "simdata/nextcloud_backup_20220823-020000\n",
      "simdata/nextcloud_backup_20220207-020000\n",
      "simdata/nextcloud_backup_20220307-020000\n",
      "simdata/nextcloud_backup_20221002-020000\n",
      "simdata/nextcloud_backup_20221102-020000\n",
      "simdata/nextcloud_backup_20220219-020000\n",
      "simdata/nextcloud_backup_20220319-020000\n",
      "simdata/nextcloud_backup_20220315-020000\n",
      "simdata/nextcloud_backup_20220215-020000\n",
      "simdata/nextcloud_backup_20220427-020000\n",
      "simdata/nextcloud_backup_20221110-020000\n",
      "simdata/nextcloud_backup_20220527-020000\n",
      "simdata/nextcloud_backup_20221010-020000\n",
      "simdata/nextcloud_backup_20220323-020000\n",
      "simdata/nextcloud_backup_20220223-020000\n",
      "simdata/nextcloud_backup_20221126-020000\n",
      "simdata/nextcloud_backup_20220411-020000\n",
      "simdata/nextcloud_backup_20221026-020000\n",
      "simdata/nextcloud_backup_20220511-020000\n",
      "simdata/nextcloud_backup_20220331-020000\n",
      "simdata/nextcloud_backup_20220503-020000\n",
      "simdata/nextcloud_backup_20220403-020000\n",
      "simdata/nextcloud_backup_20221112-020000\n",
      "simdata/nextcloud_backup_20220425-020000\n",
      "simdata/nextcloud_backup_20221012-020000\n",
      "simdata/nextcloud_backup_20220525-020000\n",
      "simdata/nextcloud_backup_20220309-020000\n",
      "simdata/nextcloud_backup_20220209-020000\n",
      "simdata/nextcloud_backup_20220317-020000\n",
      "simdata/nextcloud_backup_20220217-020000\n",
      "simdata/nextcloud_backup_20220529-020000\n",
      "simdata/nextcloud_backup_20220429-020000\n",
      "simdata/nextcloud_backup_20220205-020000\n",
      "simdata/nextcloud_backup_20220305-020000\n",
      "simdata/nextcloud_backup_20220501-020000\n",
      "simdata/nextcloud_backup_20220401-020000\n",
      "simdata/nextcloud_backup_20221028-020000\n",
      "simdata/nextcloud_backup_20221128-020000\n",
      "simdata/nextcloud_backup_20220413-020000\n",
      "simdata/nextcloud_backup_20221124-020000\n",
      "simdata/nextcloud_backup_20220513-020000\n",
      "simdata/nextcloud_backup_20221024-020000\n",
      "simdata/nextcloud_backup_20220321-020000\n",
      "simdata/nextcloud_backup_20220221-020000\n",
      "simdata/nextcloud_backup_20220610-020000\n",
      "simdata/nextcloud_backup_20221227-020000\n",
      "simdata/nextcloud_backup_20220710-020000\n",
      "simdata/nextcloud_backup_20220805-020000\n",
      "simdata/nextcloud_backup_20220905-020000\n",
      "simdata/nextcloud_backup_20220122-020000\n",
      "simdata/nextcloud_backup_20220702-020000\n",
      "simdata/nextcloud_backup_20220602-020000\n",
      "simdata/nextcloud_backup_20220917-020000\n",
      "simdata/nextcloud_backup_20220817-020000\n",
      "simdata/nextcloud_backup_20220909-020000\n",
      "simdata/nextcloud_backup_20220809-020000\n",
      "simdata/nextcloud_backup_20220130-020000\n",
      "simdata/nextcloud_backup_20220921-020000\n",
      "simdata/nextcloud_backup_20220821-020000\n",
      "simdata/nextcloud_backup_20221203-020000\n",
      "simdata/nextcloud_backup_20220118-020000\n",
      "simdata/nextcloud_backup_20220106-020000\n",
      "simdata/nextcloud_backup_20220626-020000\n",
      "simdata/nextcloud_backup_20220726-020000\n",
      "simdata/nextcloud_backup_20221211-020000\n",
      "simdata/nextcloud_backup_20220114-020000\n",
      "simdata/nextcloud_backup_20220619-020000\n",
      "simdata/nextcloud_backup_20220719-020000\n",
      "simdata/nextcloud_backup_20220607-020000\n",
      "simdata/nextcloud_backup_20221230-020000\n",
      "simdata/nextcloud_backup_20220707-020000\n",
      "simdata/nextcloud_backup_20220812-020000\n",
      "simdata/nextcloud_backup_20220912-020000\n",
      "simdata/nextcloud_backup_20220127-020000\n",
      "simdata/nextcloud_backup_20221222-020000\n",
      "simdata/nextcloud_backup_20220715-020000\n",
      "simdata/nextcloud_backup_20220615-020000\n",
      "simdata/nextcloud_backup_20220928-020000\n",
      "simdata/nextcloud_backup_20220828-020000\n",
      "simdata/nextcloud_backup_20220111-020000\n",
      "simdata/nextcloud_backup_20220723-020000\n",
      "simdata/nextcloud_backup_20221214-020000\n",
      "simdata/nextcloud_backup_20220623-020000\n",
      "simdata/nextcloud_backup_20221218-020000\n",
      "simdata/nextcloud_backup_20220103-020000\n",
      "simdata/nextcloud_backup_20220824-020000\n",
      "simdata/nextcloud_backup_20220924-020000\n",
      "simdata/nextcloud_backup_20220731-020000\n",
      "simdata/nextcloud_backup_20221206-020000\n",
      "simdata/nextcloud_backup_20221105-020000\n",
      "simdata/nextcloud_backup_20221005-020000\n",
      "simdata/nextcloud_backup_20221009-020000\n",
      "simdata/nextcloud_backup_20221109-020000\n",
      "simdata/nextcloud_backup_20220212-020000\n",
      "simdata/nextcloud_backup_20220312-020000\n",
      "simdata/nextcloud_backup_20221017-020000\n",
      "simdata/nextcloud_backup_20220520-020000\n",
      "simdata/nextcloud_backup_20221117-020000\n",
      "simdata/nextcloud_backup_20220420-020000\n",
      "simdata/nextcloud_backup_20220508-020000\n",
      "simdata/nextcloud_backup_20220408-020000\n",
      "simdata/nextcloud_backup_20220224-020000\n",
      "simdata/nextcloud_backup_20220324-020000\n",
      "simdata/nextcloud_backup_20220516-020000\n",
      "simdata/nextcloud_backup_20221021-020000\n",
      "simdata/nextcloud_backup_20220416-020000\n",
      "simdata/nextcloud_backup_20221121-020000\n",
      "simdata/nextcloud_backup_20220404-020000\n",
      "simdata/nextcloud_backup_20220504-020000\n",
      "simdata/nextcloud_backup_20220328-020000\n",
      "simdata/nextcloud_backup_20220228-020000\n",
      "simdata/nextcloud_backup_20220522-020000\n",
      "simdata/nextcloud_backup_20221015-020000\n",
      "simdata/nextcloud_backup_20220422-020000\n",
      "simdata/nextcloud_backup_20221115-020000\n",
      "simdata/nextcloud_backup_20220210-020000\n",
      "simdata/nextcloud_backup_20220310-020000\n",
      "simdata/nextcloud_backup_20220430-020000\n",
      "simdata/nextcloud_backup_20221107-020000\n",
      "simdata/nextcloud_backup_20220530-020000\n",
      "simdata/nextcloud_backup_20221007-020000\n",
      "simdata/nextcloud_backup_20221119-020000\n",
      "simdata/nextcloud_backup_20221019-020000\n",
      "simdata/nextcloud_backup_20220302-020000\n",
      "simdata/nextcloud_backup_20220202-020000\n",
      "simdata/nextcloud_backup_20220406-020000\n",
      "simdata/nextcloud_backup_20221031-020000\n",
      "simdata/nextcloud_backup_20220506-020000\n",
      "simdata/nextcloud_backup_20220418-020000\n",
      "simdata/nextcloud_backup_20220518-020000\n",
      "simdata/nextcloud_backup_20221023-020000\n",
      "simdata/nextcloud_backup_20220514-020000\n",
      "simdata/nextcloud_backup_20221123-020000\n",
      "simdata/nextcloud_backup_20220414-020000\n",
      "simdata/nextcloud_backup_20220226-020000\n",
      "simdata/nextcloud_backup_20220326-020000\n",
      "simdata/nextcloud_backup_20220902-020000\n",
      "simdata/nextcloud_backup_20220802-020000\n",
      "simdata/nextcloud_backup_20220717-020000\n",
      "simdata/nextcloud_backup_20221220-020000\n",
      "simdata/nextcloud_backup_20220617-020000\n",
      "simdata/nextcloud_backup_20220709-020000\n",
      "simdata/nextcloud_backup_20220609-020000\n",
      "simdata/nextcloud_backup_20220125-020000\n",
      "simdata/nextcloud_backup_20220810-020000\n",
      "simdata/nextcloud_backup_20220910-020000\n",
      "simdata/nextcloud_backup_20220605-020000\n",
      "simdata/nextcloud_backup_20220705-020000\n",
      "simdata/nextcloud_backup_20220129-020000\n",
      "simdata/nextcloud_backup_20221204-020000\n",
      "simdata/nextcloud_backup_20220826-020000\n",
      "simdata/nextcloud_backup_20220926-020000\n",
      "simdata/nextcloud_backup_20220101-020000\n",
      "simdata/nextcloud_backup_20221216-020000\n",
      "simdata/nextcloud_backup_20220721-020000\n",
      "simdata/nextcloud_backup_20220621-020000\n",
      "simdata/nextcloud_backup_20221208-020000\n",
      "simdata/nextcloud_backup_20220113-020000\n",
      "simdata/nextcloud_backup_20221027-020000\n",
      "simdata/nextcloud_backup_20220510-020000\n",
      "simdata/nextcloud_backup_20221127-020000\n",
      "simdata/nextcloud_backup_20220410-020000\n",
      "simdata/nextcloud_backup_20220222-020000\n",
      "simdata/nextcloud_backup_20220322-020000\n",
      "simdata/nextcloud_backup_20220402-020000\n",
      "simdata/nextcloud_backup_20220502-020000\n",
      "simdata/nextcloud_backup_20220330-020000\n",
      "simdata/nextcloud_backup_20220318-020000\n",
      "simdata/nextcloud_backup_20220218-020000\n",
      "simdata/nextcloud_backup_20221103-020000\n",
      "simdata/nextcloud_backup_20221003-020000\n",
      "simdata/nextcloud_backup_20220306-020000\n",
      "simdata/nextcloud_backup_20220206-020000\n",
      "simdata/nextcloud_backup_20220526-020000\n",
      "simdata/nextcloud_backup_20221011-020000\n",
      "simdata/nextcloud_backup_20220426-020000\n",
      "simdata/nextcloud_backup_20221111-020000\n",
      "simdata/nextcloud_backup_20220214-020000\n",
      "simdata/nextcloud_backup_20220314-020000\n",
      "simdata/nextcloud_backup_20220109-020000\n",
      "simdata/nextcloud_backup_20221212-020000\n",
      "simdata/nextcloud_backup_20220725-020000\n",
      "simdata/nextcloud_backup_20220625-020000\n",
      "simdata/nextcloud_backup_20220930-020000\n",
      "simdata/nextcloud_backup_20220830-020000\n",
      "simdata/nextcloud_backup_20220117-020000\n",
      "simdata/nextcloud_backup_20220822-020000\n",
      "simdata/nextcloud_backup_20220922-020000\n",
      "simdata/nextcloud_backup_20220105-020000\n",
      "simdata/nextcloud_backup_20220629-020000\n",
      "simdata/nextcloud_backup_20220729-020000\n",
      "simdata/nextcloud_backup_20220814-020000\n",
      "simdata/nextcloud_backup_20220914-020000\n",
      "simdata/nextcloud_backup_20220601-020000\n",
      "simdata/nextcloud_backup_20220701-020000\n",
      "simdata/nextcloud_backup_20221228-020000\n",
      "simdata/nextcloud_backup_20220906-020000\n",
      "simdata/nextcloud_backup_20220806-020000\n",
      "simdata/nextcloud_backup_20220713-020000\n",
      "simdata/nextcloud_backup_20221224-020000\n",
      "simdata/nextcloud_backup_20220613-020000\n",
      "simdata/nextcloud_backup_20220121-020000\n",
      "simdata/nextcloud_backup_20220918-020000\n",
      "simdata/nextcloud_backup_20220818-020000\n",
      "simdata/nextcloud_backup_20220107-020000\n",
      "simdata/nextcloud_backup_20220119-020000\n",
      "simdata/nextcloud_backup_20220820-020000\n",
      "simdata/nextcloud_backup_20220920-020000\n",
      "simdata/nextcloud_backup_20221202-020000\n",
      "simdata/nextcloud_backup_20220115-020000\n",
      "simdata/nextcloud_backup_20220727-020000\n",
      "simdata/nextcloud_backup_20221210-020000\n",
      "simdata/nextcloud_backup_20220627-020000\n",
      "simdata/nextcloud_backup_20220123-020000\n",
      "simdata/nextcloud_backup_20221226-020000\n",
      "simdata/nextcloud_backup_20220711-020000\n",
      "simdata/nextcloud_backup_20220611-020000\n",
      "simdata/nextcloud_backup_20220904-020000\n",
      "simdata/nextcloud_backup_20220804-020000\n",
      "simdata/nextcloud_backup_20220131-020000\n",
      "simdata/nextcloud_backup_20220808-020000\n",
      "simdata/nextcloud_backup_20220908-020000\n",
      "simdata/nextcloud_backup_20220603-020000\n",
      "simdata/nextcloud_backup_20220703-020000\n",
      "simdata/nextcloud_backup_20220816-020000\n",
      "simdata/nextcloud_backup_20220916-020000\n",
      "simdata/nextcloud_backup_20221129-020000\n",
      "simdata/nextcloud_backup_20221029-020000\n",
      "simdata/nextcloud_backup_20220220-020000\n",
      "simdata/nextcloud_backup_20220320-020000\n",
      "simdata/nextcloud_backup_20220512-020000\n",
      "simdata/nextcloud_backup_20221025-020000\n",
      "simdata/nextcloud_backup_20220412-020000\n",
      "simdata/nextcloud_backup_20221125-020000\n",
      "simdata/nextcloud_backup_20220216-020000\n",
      "simdata/nextcloud_backup_20220316-020000\n",
      "simdata/nextcloud_backup_20220208-020000\n",
      "simdata/nextcloud_backup_20220308-020000\n",
      "simdata/nextcloud_backup_20221013-020000\n",
      "simdata/nextcloud_backup_20220524-020000\n",
      "simdata/nextcloud_backup_20221113-020000\n",
      "simdata/nextcloud_backup_20220424-020000\n",
      "simdata/nextcloud_backup_20220304-020000\n",
      "simdata/nextcloud_backup_20220204-020000\n",
      "simdata/nextcloud_backup_20220428-020000\n",
      "simdata/nextcloud_backup_20220528-020000\n",
      "simdata/nextcloud_backup_20221101-020000\n",
      "simdata/nextcloud_backup_20221001-020000\n"
     ]
    }
   ],
   "source": [
    "for fn in sim_data.glob('*[0-9][0-9][0-9][0-9][0-9][0-9]-[0-9][0-9][0-9][0-9][0-9][0-9]*'):\n",
    "    print(fn)"
   ]
  },
  {
   "cell_type": "code",
   "execution_count": null,
   "id": "0c3c183e",
   "metadata": {},
   "outputs": [],
   "source": [
    "d1 = datetime.date(2021, 12, 1)"
   ]
  },
  {
   "cell_type": "code",
   "execution_count": null,
   "id": "dd57e902",
   "metadata": {},
   "outputs": [],
   "source": [
    "now = datetime.date.today()"
   ]
  },
  {
   "cell_type": "code",
   "execution_count": null,
   "id": "7c1df4ea",
   "metadata": {},
   "outputs": [
    {
     "data": {
      "text/plain": [
       "datetime.timedelta(days=381)"
      ]
     },
     "execution_count": null,
     "metadata": {},
     "output_type": "execute_result"
    }
   ],
   "source": [
    "now - d1"
   ]
  },
  {
   "cell_type": "code",
   "execution_count": null,
   "id": "2f571668",
   "metadata": {},
   "outputs": [
    {
     "data": {
      "text/plain": [
       "datetime.date(2022, 12, 20)"
      ]
     },
     "execution_count": null,
     "metadata": {},
     "output_type": "execute_result"
    }
   ],
   "source": [
    "now + datetime.timedelta(days=3)"
   ]
  },
  {
   "cell_type": "code",
   "execution_count": null,
   "id": "ec0e8323",
   "metadata": {},
   "outputs": [],
   "source": []
  }
 ],
 "metadata": {
  "kernelspec": {
   "display_name": "Python 3",
   "language": "python",
   "name": "python3"
  }
 },
 "nbformat": 4,
 "nbformat_minor": 5
}
