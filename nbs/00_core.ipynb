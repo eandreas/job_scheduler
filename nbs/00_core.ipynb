{
 "cells": [
  {
   "cell_type": "code",
   "execution_count": null,
   "metadata": {},
   "outputs": [],
   "source": [
    "#| hide\n",
    "%load_ext autoreload\n",
    "%autoreload 2"
   ]
  },
  {
   "cell_type": "markdown",
   "metadata": {},
   "source": [
    "# BackupRotation\n",
    "\n",
    "> This class handles deletion of previous backups based on the grandfather-father-son (GFS) rotation scheme."
   ]
  },
  {
   "cell_type": "code",
   "execution_count": null,
   "metadata": {},
   "outputs": [],
   "source": [
    "#| default_exp core"
   ]
  },
  {
   "cell_type": "code",
   "execution_count": null,
   "metadata": {},
   "outputs": [],
   "source": [
    "#| hide\n",
    "from nbdev.showdoc import *"
   ]
  },
  {
   "cell_type": "code",
   "execution_count": null,
   "metadata": {},
   "outputs": [],
   "source": [
    "#| export\n",
    "class KeepLastN():\n",
    "    '''\n",
    "    \n",
    "    '''\n",
    "    def __init__(self, n, keepList):\n",
    "        self.n = n\n",
    "        self.keepList = keepList"
   ]
  },
  {
   "cell_type": "code",
   "execution_count": null,
   "metadata": {},
   "outputs": [],
   "source": [
    "#| export\n",
    "class BackupRotation():\n",
    "    '''\n",
    "    \n",
    "    '''\n",
    "    def __init__(self, targetBakupDir, keepLastNDays, keepLastNWeeks, keepLastNMonths, keepLastNYears):\n",
    "        self.targetBakupDir = targetBakupDir\n",
    "        self.keepLastNDays = keepLastNDays\n",
    "        self.keepLastNWeeks = keepLastNWeeks\n",
    "        self.keepLastNMonths = keepLastNMonths\n",
    "        self.keepLastNYears = keepLastNYears"
   ]
  },
  {
   "cell_type": "code",
   "execution_count": null,
   "metadata": {},
   "outputs": [],
   "source": [
    "# keep last 3 weeks\n",
    "n = 3\n",
    "# but only Saturdays and Sundays: 0 = Monday, 1 = Tuesday, ..., 6 = Sunday\n",
    "keepList = [5, 6]\n",
    "\n",
    "klnm = KeepLastN(n, keepList)"
   ]
  },
  {
   "cell_type": "code",
   "execution_count": null,
   "metadata": {},
   "outputs": [],
   "source": [
    "br = BackupRotation('bla', klnm, klnm, klnm, klnm)"
   ]
  },
  {
   "cell_type": "code",
   "execution_count": null,
   "metadata": {},
   "outputs": [],
   "source": [
    "#| hide\n",
    "import nbdev; nbdev.nbdev_export()"
   ]
  },
  {
   "cell_type": "code",
   "execution_count": null,
   "metadata": {},
   "outputs": [],
   "source": []
  }
 ],
 "metadata": {
  "kernelspec": {
   "display_name": "Python 3",
   "language": "python",
   "name": "python3"
  }
 },
 "nbformat": 4,
 "nbformat_minor": 4
}
